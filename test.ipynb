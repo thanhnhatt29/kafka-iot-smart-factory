{
 "cells": [
  {
   "cell_type": "code",
   "execution_count": 7,
   "id": "aefea1f7",
   "metadata": {},
   "outputs": [],
   "source": [
    "import json\n",
    "import time\n",
    "import random\n",
    "from kafka import KafkaProducer\n",
    "from kafka.admin import KafkaAdminClient, NewTopic"
   ]
  },
  {
   "cell_type": "code",
   "execution_count": 2,
   "id": "6ba5da26",
   "metadata": {},
   "outputs": [],
   "source": [
    "bootstrap_servers = ['localhost:9092', 'localhost:9093', 'localhost:9094']\n",
    "client_id = 'jupyter_test_client'"
   ]
  },
  {
   "cell_type": "code",
   "execution_count": null,
   "id": "aba3d457",
   "metadata": {},
   "outputs": [],
   "source": [
    "admin_client = KafkaAdminClient(\n",
    "        bootstrap_servers=bootstrap_servers,\n",
    "        client_id=client_id,\n",
    "        request_timeout_ms=10000 \n",
    "    )"
   ]
  },
  {
   "cell_type": "code",
   "execution_count": 6,
   "id": "6832f6f3",
   "metadata": {},
   "outputs": [],
   "source": [
    "new_topic_name = 'pressure_data' # Choose a name for your new topic\n",
    "num_partitions = 3               # Number of partitions for the topic\n",
    "replication_factor = 3           # Replication factor (should be <= number of brokers)"
   ]
  },
  {
   "cell_type": "code",
   "execution_count": 8,
   "id": "4dd0acb8",
   "metadata": {},
   "outputs": [
    {
     "name": "stdout",
     "output_type": "stream",
     "text": [
      "\n",
      "Attempting to create topic 'pressure_data' with 3 partitions and replication factor 3...\n"
     ]
    },
    {
     "data": {
      "text/plain": [
       "CreateTopicsResponse_v3(throttle_time_ms=0, topic_errors=[(topic='pressure_data', error_code=0, error_message=None)])"
      ]
     },
     "execution_count": 8,
     "metadata": {},
     "output_type": "execute_result"
    }
   ],
   "source": [
    "topic_to_create = NewTopic(name=new_topic_name,\n",
    "                            num_partitions=num_partitions,\n",
    "                            replication_factor=replication_factor)\n",
    "print(f\"\\nAttempting to create topic '{new_topic_name}' with {num_partitions} partitions and replication factor {replication_factor}...\")\n",
    "admin_client.create_topics(new_topics=[topic_to_create], validate_only=False)"
   ]
  },
  {
   "cell_type": "code",
   "execution_count": 9,
   "id": "5bf575c4",
   "metadata": {},
   "outputs": [
    {
     "name": "stdout",
     "output_type": "stream",
     "text": [
      "['temperature_data', 'vibration_data', 'pressure_data', 'humidity_data']\n"
     ]
    }
   ],
   "source": [
    "topics = admin_client.list_topics()\n",
    "print(topics)"
   ]
  },
  {
   "cell_type": "code",
   "execution_count": 11,
   "id": "5775c29b",
   "metadata": {},
   "outputs": [],
   "source": [
    "from kafka import KafkaConsumer\n",
    "import json\n",
    "\n",
    "THRESHOLDS = {\n",
    "    'vibration': 4.0,\n",
    "    'humidity': 80.0,\n",
    "    'temperature': 35.0\n",
    "}\n"
   ]
  },
  {
   "cell_type": "code",
   "execution_count": 12,
   "id": "96191bb5",
   "metadata": {},
   "outputs": [],
   "source": [
    "\n",
    "consumer = KafkaConsumer(\n",
    "    'temperature_data', 'humidity_data', 'vibration_data',\n",
    "    bootstrap_servers='localhost:9092',\n",
    "    auto_offset_reset='latest',\n",
    "    group_id='anomaly_group',\n",
    "    value_deserializer=lambda m: json.loads(m.decode('utf-8'))\n",
    ")\n",
    "\n",
    "def get_measurement_info(data):\n",
    "    for key, value in data.items():\n",
    "        if key not in ('device_id', 'timestamp'):\n",
    "            return key, float(value)\n",
    "    return None, None \n"
   ]
  },
  {
   "cell_type": "code",
   "execution_count": null,
   "id": "b773a9ab",
   "metadata": {},
   "outputs": [],
   "source": [
    "\n",
    "for message in consumer:\n",
    "    data = message.value # Deserialized dictionary\n",
    "    \n",
    "    # Direct access - will crash if keys are missing or data is malformed\n",
    "    device_id = data['device_id']\n",
    "    timestamp = data['timestamp']\n",
    "    measurement_type, measurement_value = get_measurement_info(data)\n",
    "\n",
    "    if measurement_type in THRESHOLDS:\n",
    "        threshold = THRESHOLDS[measurement_type]\n",
    "        if measurement_value > threshold:\n",
    "            # --- Print ONLY if anomaly is detected ---\n",
    "            print(\n",
    "                f\"ALERT! Anomaly Detected: Device={device_id}, \"\n",
    "                f\"Type={measurement_type}, Value={measurement_value}, \"\n",
    "                f\"Threshold={threshold}, Timestamp={timestamp}\"\n",
    "            )"
   ]
  }
 ],
 "metadata": {
  "kernelspec": {
   "display_name": "kafka-demo",
   "language": "python",
   "name": "python3"
  },
  "language_info": {
   "codemirror_mode": {
    "name": "ipython",
    "version": 3
   },
   "file_extension": ".py",
   "mimetype": "text/x-python",
   "name": "python",
   "nbconvert_exporter": "python",
   "pygments_lexer": "ipython3",
   "version": "3.13.2"
  }
 },
 "nbformat": 4,
 "nbformat_minor": 5
}
